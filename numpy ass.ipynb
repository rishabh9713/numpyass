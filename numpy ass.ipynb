{
 "cells": [
  {
   "cell_type": "code",
   "execution_count": 1,
   "id": "80f41c55-f14a-4e13-b9b7-15854acc22ee",
   "metadata": {},
   "outputs": [],
   "source": [
    "#Q1. Is there any difference in the data type of variables list_ and array_list? If there is then write a code to print the data types of both the variables."
   ]
  },
  {
   "cell_type": "code",
   "execution_count": 34,
   "id": "71fe6d34-7f67-41a5-afe8-8c8a2dc18b06",
   "metadata": {},
   "outputs": [],
   "source": [
    "import numpy as np"
   ]
  },
  {
   "cell_type": "code",
   "execution_count": 65,
   "id": "39fc5132-14ac-4259-8a19-3d20dfe41275",
   "metadata": {},
   "outputs": [],
   "source": [
    "l=[1,2,3,4,5,6,7]\n",
    "ar=np.array(object=l)"
   ]
  },
  {
   "cell_type": "code",
   "execution_count": 66,
   "id": "98da426e-8f78-4db2-a0fd-6b6721d5b18f",
   "metadata": {},
   "outputs": [
    {
     "data": {
      "text/plain": [
       "[1, 2, 3, 4, 5, 6, 7]"
      ]
     },
     "execution_count": 66,
     "metadata": {},
     "output_type": "execute_result"
    }
   ],
   "source": [
    "l"
   ]
  },
  {
   "cell_type": "code",
   "execution_count": 67,
   "id": "924e7122-e196-4765-bd51-e7e14c3cf4ec",
   "metadata": {},
   "outputs": [
    {
     "data": {
      "text/plain": [
       "array([1, 2, 3, 4, 5, 6, 7])"
      ]
     },
     "execution_count": 67,
     "metadata": {},
     "output_type": "execute_result"
    }
   ],
   "source": [
    "ar"
   ]
  },
  {
   "cell_type": "code",
   "execution_count": 68,
   "id": "d7ac28b9-0c8d-4e15-9d74-00f12991bd54",
   "metadata": {},
   "outputs": [
    {
     "data": {
      "text/plain": [
       "dtype('int64')"
      ]
     },
     "execution_count": 68,
     "metadata": {},
     "output_type": "execute_result"
    }
   ],
   "source": [
    "ar.dtype"
   ]
  },
  {
   "cell_type": "code",
   "execution_count": 73,
   "id": "ca9a3209-2175-45c2-8778-4a8c9daa033a",
   "metadata": {},
   "outputs": [],
   "source": [
    "ar1=np.array(l)"
   ]
  },
  {
   "cell_type": "code",
   "execution_count": 74,
   "id": "3b257dd6-a99e-40ee-a0ff-8d0e95e012c2",
   "metadata": {},
   "outputs": [
    {
     "data": {
      "text/plain": [
       "array([1, 2, 3, 4, 5, 6, 7])"
      ]
     },
     "execution_count": 74,
     "metadata": {},
     "output_type": "execute_result"
    }
   ],
   "source": [
    "ar1"
   ]
  },
  {
   "cell_type": "code",
   "execution_count": 75,
   "id": "77959d23-28a2-437e-94c1-277e46b26934",
   "metadata": {},
   "outputs": [
    {
     "data": {
      "text/plain": [
       "dtype('int64')"
      ]
     },
     "execution_count": 75,
     "metadata": {},
     "output_type": "execute_result"
    }
   ],
   "source": [
    "ar1.dtype"
   ]
  },
  {
   "cell_type": "code",
   "execution_count": 76,
   "id": "04f6ee42-7a4a-4ca9-8a21-657fe14733b4",
   "metadata": {},
   "outputs": [],
   "source": [
    "#Q2. Write a code to print the data type of each and every element of both the variables list_ and arra_list."
   ]
  },
  {
   "cell_type": "code",
   "execution_count": 77,
   "id": "f3710fdf-1335-493b-b065-b908e5ad9af9",
   "metadata": {},
   "outputs": [],
   "source": [
    "import numpy as np"
   ]
  },
  {
   "cell_type": "code",
   "execution_count": 78,
   "id": "3a8ec556-653c-45ce-bc87-fd0fa1f86105",
   "metadata": {},
   "outputs": [],
   "source": [
    "l=[1,2,3,4,5,6]"
   ]
  },
  {
   "cell_type": "code",
   "execution_count": 79,
   "id": "12817469-a796-4185-9041-6c5e9d5b98c2",
   "metadata": {},
   "outputs": [],
   "source": [
    "ar2=np.array(l)"
   ]
  },
  {
   "cell_type": "code",
   "execution_count": 80,
   "id": "dda4ee23-7943-4c1a-ae84-64e934af749e",
   "metadata": {},
   "outputs": [
    {
     "data": {
      "text/plain": [
       "array([1, 2, 3, 4, 5, 6])"
      ]
     },
     "execution_count": 80,
     "metadata": {},
     "output_type": "execute_result"
    }
   ],
   "source": [
    "ar2"
   ]
  },
  {
   "cell_type": "code",
   "execution_count": 81,
   "id": "a56180ef-f378-47d0-8c11-f71088ef43ae",
   "metadata": {},
   "outputs": [],
   "source": [
    "ar3=np.array(l)"
   ]
  },
  {
   "cell_type": "code",
   "execution_count": 82,
   "id": "a114b840-5c29-49ce-8823-16bb2fd96231",
   "metadata": {},
   "outputs": [
    {
     "data": {
      "text/plain": [
       "array([1, 2, 3, 4, 5, 6])"
      ]
     },
     "execution_count": 82,
     "metadata": {},
     "output_type": "execute_result"
    }
   ],
   "source": [
    "ar3"
   ]
  },
  {
   "cell_type": "code",
   "execution_count": 83,
   "id": "84c40cc9-05b1-4cd5-9e0b-f5b58f788940",
   "metadata": {},
   "outputs": [
    {
     "name": "stdout",
     "output_type": "stream",
     "text": [
      "int64\n",
      "int64\n",
      "int64\n",
      "int64\n",
      "int64\n",
      "int64\n"
     ]
    }
   ],
   "source": [
    "for i in ar3:\n",
    "    print(i.dtype)"
   ]
  },
  {
   "cell_type": "code",
   "execution_count": 84,
   "id": "c93cdfc0-b7ab-4b43-acd4-000c0df9cb58",
   "metadata": {},
   "outputs": [],
   "source": [
    "#Q3. Considering the following changes in the variable, array_list: array_list = np.array(object = list_, dtype = int)\n",
    "#Will there be any difference in the data type of the elements present in both the variables, list_ and arra_list? If so then print the data types of each and every element present \n",
    "#in both the variables, list_ and arra_list.\n",
    "\n"
   ]
  },
  {
   "cell_type": "code",
   "execution_count": 106,
   "id": "99337975-0d0e-402e-897b-fc6494be2240",
   "metadata": {},
   "outputs": [],
   "source": [
    "list_arr=([1,2,3],[4,5,6])"
   ]
  },
  {
   "cell_type": "code",
   "execution_count": 107,
   "id": "1a046e69-1fb5-43bc-a8c0-0413c59fce05",
   "metadata": {},
   "outputs": [],
   "source": [
    "ar1=np.array(list_arr)"
   ]
  },
  {
   "cell_type": "code",
   "execution_count": 108,
   "id": "91fe9dd8-c209-472c-a234-b7d4e6323654",
   "metadata": {},
   "outputs": [
    {
     "data": {
      "text/plain": [
       "array([[1, 2, 3],\n",
       "       [4, 5, 6]])"
      ]
     },
     "execution_count": 108,
     "metadata": {},
     "output_type": "execute_result"
    }
   ],
   "source": [
    "ar1"
   ]
  },
  {
   "cell_type": "code",
   "execution_count": 109,
   "id": "99978e66-99d9-4b92-8179-d37464588205",
   "metadata": {},
   "outputs": [
    {
     "data": {
      "text/plain": [
       "dtype('int64')"
      ]
     },
     "execution_count": 109,
     "metadata": {},
     "output_type": "execute_result"
    }
   ],
   "source": [
    "ar1.dtype"
   ]
  },
  {
   "cell_type": "code",
   "execution_count": 110,
   "id": "6884c6f7-68d9-49cd-94fd-febb40366d3d",
   "metadata": {},
   "outputs": [
    {
     "name": "stdout",
     "output_type": "stream",
     "text": [
      "int64\n",
      "int64\n"
     ]
    }
   ],
   "source": [
    "for i in ar1:\n",
    "    print(i.dtype)"
   ]
  },
  {
   "cell_type": "code",
   "execution_count": 120,
   "id": "66f076a8-b31f-4297-9461-74602eb10621",
   "metadata": {},
   "outputs": [],
   "source": [
    "#Q4. Write a code to find the following characteristics of variable, num_array: (i)\t shape (ii) size"
   ]
  },
  {
   "cell_type": "code",
   "execution_count": 121,
   "id": "bc68a32e-d912-4d4f-add4-265bda9bdbdc",
   "metadata": {},
   "outputs": [],
   "source": [
    "num_list = [ [ 1 , 2 , 3 ] , [ 4 , 5 , 6 ] ]"
   ]
  },
  {
   "cell_type": "code",
   "execution_count": 122,
   "id": "aa61031f-28eb-4529-a480-b909eb4446fc",
   "metadata": {},
   "outputs": [],
   "source": [
    "num_array = np.array(object = num_list)"
   ]
  },
  {
   "cell_type": "code",
   "execution_count": 123,
   "id": "9b25cc15-a4ed-41a1-83d2-5c8a15372927",
   "metadata": {},
   "outputs": [
    {
     "data": {
      "text/plain": [
       "[[1, 2, 3], [4, 5, 6]]"
      ]
     },
     "execution_count": 123,
     "metadata": {},
     "output_type": "execute_result"
    }
   ],
   "source": [
    "num_list"
   ]
  },
  {
   "cell_type": "code",
   "execution_count": 124,
   "id": "ffdf1473-4516-43ef-98d9-bc2f5d72d984",
   "metadata": {},
   "outputs": [
    {
     "data": {
      "text/plain": [
       "array([[1, 2, 3],\n",
       "       [4, 5, 6]])"
      ]
     },
     "execution_count": 124,
     "metadata": {},
     "output_type": "execute_result"
    }
   ],
   "source": [
    "num_array"
   ]
  },
  {
   "cell_type": "code",
   "execution_count": 125,
   "id": "e7273429-ca58-4dbf-a8d0-64cd1d4c276a",
   "metadata": {},
   "outputs": [
    {
     "data": {
      "text/plain": [
       "(2, 3)"
      ]
     },
     "execution_count": 125,
     "metadata": {},
     "output_type": "execute_result"
    }
   ],
   "source": [
    "np.shape(num_list)"
   ]
  },
  {
   "cell_type": "code",
   "execution_count": 126,
   "id": "ebf2041b-3ca3-4b58-bb45-47c1e94e1c9d",
   "metadata": {},
   "outputs": [
    {
     "data": {
      "text/plain": [
       "6"
      ]
     },
     "execution_count": 126,
     "metadata": {},
     "output_type": "execute_result"
    }
   ],
   "source": [
    "np.size(num_list)"
   ]
  },
  {
   "cell_type": "code",
   "execution_count": 127,
   "id": "9744e621-8aa4-429d-a4a3-419c561e5e9d",
   "metadata": {},
   "outputs": [],
   "source": [
    "#Q5. Write a code to create numpy array of 3*3 matrix containing zeros only, using a numpy array creation function.\n",
    "\n",
    "#[Hint: The size of the array will be 9 and the shape will be (3,3).]"
   ]
  },
  {
   "cell_type": "code",
   "execution_count": 135,
   "id": "12da0aa1-01bc-4d75-a79b-01815af7d763",
   "metadata": {},
   "outputs": [],
   "source": [
    "cr=np.zeros((3,3))"
   ]
  },
  {
   "cell_type": "code",
   "execution_count": 136,
   "id": "21d3eaf1-5a7a-46b9-9cb1-109ce1f422d7",
   "metadata": {},
   "outputs": [
    {
     "data": {
      "text/plain": [
       "array([[0., 0., 0.],\n",
       "       [0., 0., 0.],\n",
       "       [0., 0., 0.]])"
      ]
     },
     "execution_count": 136,
     "metadata": {},
     "output_type": "execute_result"
    }
   ],
   "source": [
    "cr"
   ]
  },
  {
   "cell_type": "code",
   "execution_count": 137,
   "id": "991d100e-789b-48f0-9458-f014a0ad2b32",
   "metadata": {},
   "outputs": [
    {
     "data": {
      "text/plain": [
       "(3, 3)"
      ]
     },
     "execution_count": 137,
     "metadata": {},
     "output_type": "execute_result"
    }
   ],
   "source": [
    "np.shape(cr)"
   ]
  },
  {
   "cell_type": "code",
   "execution_count": 138,
   "id": "49bef199-a7ad-4585-a3d8-581d80b4bfda",
   "metadata": {},
   "outputs": [
    {
     "data": {
      "text/plain": [
       "9"
      ]
     },
     "execution_count": 138,
     "metadata": {},
     "output_type": "execute_result"
    }
   ],
   "source": [
    "np.size(cr)"
   ]
  },
  {
   "cell_type": "code",
   "execution_count": 139,
   "id": "059fa740-62e6-4425-95a5-a75ce0ade871",
   "metadata": {},
   "outputs": [],
   "source": [
    "#Q6. Create an identity matrix of shape (5,5) using numpy functions?\n",
    "#[Hint: An identity matrix is a matrix containing 1 diagonally and other elements will be 0.]"
   ]
  },
  {
   "cell_type": "code",
   "execution_count": 144,
   "id": "456813e7-204f-48b5-95c0-87ef7820cf5a",
   "metadata": {},
   "outputs": [],
   "source": [
    "ar34=np.eye(5,5)"
   ]
  },
  {
   "cell_type": "code",
   "execution_count": 145,
   "id": "926cee7e-ff1c-414c-9af2-1d522198e944",
   "metadata": {},
   "outputs": [
    {
     "data": {
      "text/plain": [
       "array([[1., 0., 0., 0., 0.],\n",
       "       [0., 1., 0., 0., 0.],\n",
       "       [0., 0., 1., 0., 0.],\n",
       "       [0., 0., 0., 1., 0.],\n",
       "       [0., 0., 0., 0., 1.]])"
      ]
     },
     "execution_count": 145,
     "metadata": {},
     "output_type": "execute_result"
    }
   ],
   "source": [
    "ar34"
   ]
  }
 ],
 "metadata": {
  "kernelspec": {
   "display_name": "Python 3 (ipykernel)",
   "language": "python",
   "name": "python3"
  },
  "language_info": {
   "codemirror_mode": {
    "name": "ipython",
    "version": 3
   },
   "file_extension": ".py",
   "mimetype": "text/x-python",
   "name": "python",
   "nbconvert_exporter": "python",
   "pygments_lexer": "ipython3",
   "version": "3.10.8"
  }
 },
 "nbformat": 4,
 "nbformat_minor": 5
}
